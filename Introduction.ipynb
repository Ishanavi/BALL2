{
  "nbformat": 4,
  "nbformat_minor": 0,
  "metadata": {
    "colab": {
      "name": "Introduction.ipynb",
      "provenance": [],
      "authorship_tag": "ABX9TyOLPvTCS+X6A96mlK/iJf03",
      "include_colab_link": true
    },
    "kernelspec": {
      "name": "python3",
      "display_name": "Python 3"
    },
    "language_info": {
      "name": "python"
    }
  },
  "cells": [
    {
      "cell_type": "markdown",
      "metadata": {
        "id": "view-in-github",
        "colab_type": "text"
      },
      "source": [
        "<a href=\"https://colab.research.google.com/github/Ishanavi/BALL2/blob/main/Introduction.ipynb\" target=\"_parent\"><img src=\"https://colab.research.google.com/assets/colab-badge.svg\" alt=\"Open In Colab\"/></a>"
      ]
    },
    {
      "cell_type": "markdown",
      "source": [
        ""
      ],
      "metadata": {
        "id": "0wwPKxcd1UVB"
      }
    },
    {
      "cell_type": "code",
      "source": [
        "intro = input(\"Enter your introduction\")\n",
        "charCount = 0\n",
        "wordCount = 1\n",
        "\n",
        "for i in intro:\n",
        "  charCount+=1\n",
        "  \n",
        "  if(i==' '):\n",
        "    wordCount+=1\n",
        "\n",
        "print(\"No. of characters:\")\n",
        "print(charCount)\n",
        "\n",
        "print(\"No. of words:\")\n",
        "print(wordCount)"
      ],
      "metadata": {
        "colab": {
          "base_uri": "https://localhost:8080/"
        },
        "id": "ViOQhlTF15JT",
        "outputId": "cd82e551-e715-4342-e28f-2803b9d90bac"
      },
      "execution_count": 2,
      "outputs": [
        {
          "output_type": "stream",
          "name": "stdout",
          "text": [
            "Enter your introductionThe legend of zelda breath of the wild\n",
            "No. of characters:\n",
            "38\n",
            "No. of words:\n",
            "8\n"
          ]
        }
      ]
    },
    {
      "cell_type": "code",
      "source": [
        "count = 5\n",
        "\n",
        "while(count>=0):\n",
        "  print(count)\n",
        "  count-=1\n",
        "  "
      ],
      "metadata": {
        "colab": {
          "base_uri": "https://localhost:8080/"
        },
        "id": "iOxOdVK434L3",
        "outputId": "5235cebc-4a9e-49a2-c50d-b90f68433fa7"
      },
      "execution_count": 3,
      "outputs": [
        {
          "output_type": "stream",
          "name": "stdout",
          "text": [
            "5\n",
            "4\n",
            "3\n",
            "2\n",
            "1\n",
            "0\n"
          ]
        }
      ]
    },
    {
      "cell_type": "code",
      "source": [
        "moneyR = int(input(\"Enter your pocket money\"))\n",
        "\n",
        "if(moneyR>500):\n",
        "  print(\"Rich Kid!\")\n",
        "\n",
        "elif(moneyR>100):\n",
        "  print(\"You have a good life\")\n",
        "\n",
        "else:\n",
        "  print(\"I know what you feel\")"
      ],
      "metadata": {
        "colab": {
          "base_uri": "https://localhost:8080/"
        },
        "id": "sBdeVS2m4lOT",
        "outputId": "b2fe95ee-349d-4e97-c695-cc0f860ff7fa"
      },
      "execution_count": 5,
      "outputs": [
        {
          "output_type": "stream",
          "name": "stdout",
          "text": [
            "Enter your pocket money50\n",
            "I know what you feel\n"
          ]
        }
      ]
    }
  ]
}