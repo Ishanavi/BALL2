{
  "nbformat": 4,
  "nbformat_minor": 0,
  "metadata": {
    "colab": {
      "name": "CreatingClass100.ipynb",
      "provenance": [],
      "collapsed_sections": [],
      "authorship_tag": "ABX9TyPpbIDRibD+gty++AbCXzci",
      "include_colab_link": true
    },
    "kernelspec": {
      "name": "python3",
      "display_name": "Python 3"
    },
    "language_info": {
      "name": "python"
    }
  },
  "cells": [
    {
      "cell_type": "markdown",
      "metadata": {
        "id": "view-in-github",
        "colab_type": "text"
      },
      "source": [
        "<a href=\"https://colab.research.google.com/github/Ishanavi/BALL2/blob/main/CreatingClass100.ipynb\" target=\"_parent\"><img src=\"https://colab.research.google.com/assets/colab-badge.svg\" alt=\"Open In Colab\"/></a>"
      ]
    },
    {
      "cell_type": "code",
      "execution_count": 5,
      "metadata": {
        "colab": {
          "base_uri": "https://localhost:8080/"
        },
        "id": "1xUN_pISZzIu",
        "outputId": "3ca6fda9-c576-4847-b797-e06f40804778"
      },
      "outputs": [
        {
          "output_type": "stream",
          "name": "stdout",
          "text": [
            "5\n",
            "5\n"
          ]
        }
      ],
      "source": [
        "class Student(object):\n",
        "  def __init__(self, name,age,gender,grades=None):\n",
        "    self.name = name\n",
        "    self.age = age\n",
        "    self.gender = gender\n",
        "    self.grades = grades or {}\n",
        "\n",
        "  def setGrade(self, course,grade):\n",
        "    self.grades[course] = grade\n",
        "\n",
        "  def getGrade(self, course):\n",
        "    return self.grades[course]\n",
        "\n",
        "  def getGPA(self):\n",
        "    return sum(self.grades.value())/len(self.grades)    \n",
        "\n",
        "John = Student(\"John\",15,\"male\",{\"Math\":3.3})\n",
        "Cody = Student(\"Cody\",14,\"male\",{\"Math\":3.6})\n",
        "\n",
        "John.setGrade(\"English\",5)\n",
        "xyz = John.getGrade(\"English\")\n",
        "print(xyz)\n",
        "print(John.getGrade(\"English\"))"
      ]
    },
    {
      "cell_type": "code",
      "source": [
        "class Cars(object):\n",
        "  def __init__(self, Model,Company,Color,Speed):\n",
        "    self.Model = Model\n",
        "    self.Company =Company\n",
        "    self.Color = Color\n",
        "    self.Speed = Speed\n",
        "\n",
        "  def start(self):\n",
        "    print(\"Started\")\n",
        "\n",
        "  def stop(self):\n",
        "    print(\"Stopped\")\n",
        "\n",
        "  def accelerate(self):\n",
        "    print(\"Accelerating\")\n",
        "\n",
        "audi = Cars(\"a1\",\"Audi\",\"Black\",\"80km/hr\")\n",
        "audi.stop()\n",
        "audi.start()\n",
        "audi.accelerate()\n",
        "audi.Color"
      ],
      "metadata": {
        "colab": {
          "base_uri": "https://localhost:8080/",
          "height": 89
        },
        "id": "qNsC8d9OdWOh",
        "outputId": "fd391471-7940-42ed-bafe-2a794dd35f26"
      },
      "execution_count": 11,
      "outputs": [
        {
          "output_type": "stream",
          "name": "stdout",
          "text": [
            "Stopped\n",
            "Started\n",
            "Accelerating\n"
          ]
        },
        {
          "output_type": "execute_result",
          "data": {
            "text/plain": [
              "'Black'"
            ],
            "application/vnd.google.colaboratory.intrinsic+json": {
              "type": "string"
            }
          },
          "metadata": {},
          "execution_count": 11
        }
      ]
    }
  ]
}