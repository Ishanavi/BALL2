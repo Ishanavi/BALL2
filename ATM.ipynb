{
  "nbformat": 4,
  "nbformat_minor": 0,
  "metadata": {
    "colab": {
      "name": "ATM.ipynb",
      "provenance": [],
      "collapsed_sections": [],
      "authorship_tag": "ABX9TyNRv39aVmzV/deXcc18jQ1G",
      "include_colab_link": true
    },
    "kernelspec": {
      "name": "python3",
      "display_name": "Python 3"
    },
    "language_info": {
      "name": "python"
    }
  },
  "cells": [
    {
      "cell_type": "markdown",
      "metadata": {
        "id": "view-in-github",
        "colab_type": "text"
      },
      "source": [
        "<a href=\"https://colab.research.google.com/github/Ishanavi/BALL2/blob/main/ATM.ipynb\" target=\"_parent\"><img src=\"https://colab.research.google.com/assets/colab-badge.svg\" alt=\"Open In Colab\"/></a>"
      ]
    },
    {
      "cell_type": "code",
      "execution_count": 9,
      "metadata": {
        "colab": {
          "base_uri": "https://localhost:8080/"
        },
        "id": "44tKxYNrUV05",
        "outputId": "59fab399-b0a5-4e71-f22b-fcb64f948041"
      },
      "outputs": [
        {
          "output_type": "stream",
          "name": "stdout",
          "text": [
            "Withdrawl cash\n",
            "Checking the present balance\n",
            "Depositing Balance\n"
          ]
        },
        {
          "output_type": "execute_result",
          "data": {
            "text/plain": [
              "1234456789"
            ]
          },
          "metadata": {},
          "execution_count": 9
        }
      ],
      "source": [
        "class ATM(object):\n",
        "  def __init__(self, cardNum,pinNum):\n",
        "    self.cardNum = cardNum\n",
        "    self.pinNum = pinNum\n",
        "\n",
        "  def cashWithdrawl(self):\n",
        "    print(\"Withdrawl cash\")\n",
        "      \n",
        "\n",
        "  def balanceEnquiry(self):\n",
        "    print(\"Checking the present balance\")\n",
        "\n",
        "\n",
        "  def depositBalance(self):\n",
        "    print(\"Depositing Balance\")\n",
        "\n",
        "\n",
        "Alex = ATM(1234456789,123)\n",
        "Alex.cashWithdrawl()\n",
        "Alex.balanceEnquiry()\n",
        "Alex.depositBalance()\n",
        "Alex.cardNum\n",
        "#Alex.pinNum\n"
      ]
    }
  ]
}