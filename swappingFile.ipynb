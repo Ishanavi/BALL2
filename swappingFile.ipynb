{
  "nbformat": 4,
  "nbformat_minor": 0,
  "metadata": {
    "colab": {
      "name": "swappingFile.ipynb",
      "provenance": [],
      "collapsed_sections": [],
      "authorship_tag": "ABX9TyP7T7bN86lQGQb6fpVg+EuD",
      "include_colab_link": true
    },
    "kernelspec": {
      "name": "python3",
      "display_name": "Python 3"
    },
    "language_info": {
      "name": "python"
    }
  },
  "cells": [
    {
      "cell_type": "markdown",
      "metadata": {
        "id": "view-in-github",
        "colab_type": "text"
      },
      "source": [
        "<a href=\"https://colab.research.google.com/github/Ishanavi/BALL2/blob/main/swappingFile.ipynb\" target=\"_parent\"><img src=\"https://colab.research.google.com/assets/colab-badge.svg\" alt=\"Open In Colab\"/></a>"
      ]
    },
    {
      "cell_type": "code",
      "execution_count": null,
      "metadata": {
        "id": "WQDFfemCwEjP"
      },
      "outputs": [],
      "source": [
        "def swapFileData():\n",
        "  file_1 = input('Enter file1 path')\n",
        "  file_2 = input('Enter file2 path')\n",
        "\n",
        "  with open(file_1,'r') as a:\n",
        "    data_a = a.read()\n",
        "\n",
        "  with open(file_2,'r') as b:\n",
        "    data_b = b.read()\n",
        "\n",
        "  with open(file_1,'w') as a:\n",
        "    a.write(data_b)\n",
        "\n",
        "  with open(file_2,'w') as b:\n",
        "    b.write(data_a)\n",
        "\n",
        "swapFileData()"
      ]
    }
  ]
}