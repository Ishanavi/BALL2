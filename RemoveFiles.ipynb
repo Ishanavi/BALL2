{
  "nbformat": 4,
  "nbformat_minor": 0,
  "metadata": {
    "colab": {
      "name": "RemoveFiles.ipynb",
      "provenance": [],
      "collapsed_sections": [],
      "authorship_tag": "ABX9TyPiuhye0Gy+TFvXRpVQnovO",
      "include_colab_link": true
    },
    "kernelspec": {
      "name": "python3",
      "display_name": "Python 3"
    },
    "language_info": {
      "name": "python"
    }
  },
  "cells": [
    {
      "cell_type": "markdown",
      "metadata": {
        "id": "view-in-github",
        "colab_type": "text"
      },
      "source": [
        "<a href=\"https://colab.research.google.com/github/Ishanavi/BALL2/blob/main/RemoveFiles.ipynb\" target=\"_parent\"><img src=\"https://colab.research.google.com/assets/colab-badge.svg\" alt=\"Open In Colab\"/></a>"
      ]
    },
    {
      "cell_type": "code",
      "execution_count": null,
      "metadata": {
        "id": "riswVoDrbMLQ"
      },
      "outputs": [],
      "source": [
        "import os\n",
        "import shutil\n",
        "import time\n",
        "\n",
        "path = input(\"Enter path of the folder\")\n",
        "days = 30\n",
        "secs = time.time()(-days*24*60*60)\n",
        "\n",
        "if(os.path.exists(path)):\n",
        "  for root_folder,folder,files in os.walk(path):\n",
        "  os.walk(path)\n",
        "  os.path.join\n",
        "\n",
        "\n",
        "  ctime = os.stat(path).st_ctime\n",
        "  return ctime"
      ]
    }
  ]
}